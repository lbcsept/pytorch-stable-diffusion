{
 "cells": [
  {
   "cell_type": "code",
   "execution_count": 1,
   "metadata": {},
   "outputs": [
    {
     "name": "stderr",
     "output_type": "stream",
     "text": [
      "  0%|          | 0/50 [00:07<?, ?it/s]\n"
     ]
    },
    {
     "ename": "AttributeError",
     "evalue": "'Upsample' object has no attribute 'conf'",
     "output_type": "error",
     "traceback": [
      "\u001b[0;31m---------------------------------------------------------------------------\u001b[0m",
      "\u001b[0;31mAttributeError\u001b[0m                            Traceback (most recent call last)",
      "\u001b[1;32m/Users/nikoenki/Documents/prog/pytorch-stable-diffusion/sd-nv/demo.ipynb Cellule 1\u001b[0m line \u001b[0;36m4\n\u001b[1;32m     <a href='vscode-notebook-cell:/Users/nikoenki/Documents/prog/pytorch-stable-diffusion/sd-nv/demo.ipynb#W0sZmlsZQ%3D%3D?line=37'>38</a>\u001b[0m num_inference_steps \u001b[39m=\u001b[39m \u001b[39m50\u001b[39m\n\u001b[1;32m     <a href='vscode-notebook-cell:/Users/nikoenki/Documents/prog/pytorch-stable-diffusion/sd-nv/demo.ipynb#W0sZmlsZQ%3D%3D?line=38'>39</a>\u001b[0m seed \u001b[39m=\u001b[39m \u001b[39m42\u001b[39m\n\u001b[0;32m---> <a href='vscode-notebook-cell:/Users/nikoenki/Documents/prog/pytorch-stable-diffusion/sd-nv/demo.ipynb#W0sZmlsZQ%3D%3D?line=40'>41</a>\u001b[0m output_image \u001b[39m=\u001b[39m pipeline\u001b[39m.\u001b[39;49mgenerate(\n\u001b[1;32m     <a href='vscode-notebook-cell:/Users/nikoenki/Documents/prog/pytorch-stable-diffusion/sd-nv/demo.ipynb#W0sZmlsZQ%3D%3D?line=41'>42</a>\u001b[0m     prompt\u001b[39m=\u001b[39;49mprompt,\n\u001b[1;32m     <a href='vscode-notebook-cell:/Users/nikoenki/Documents/prog/pytorch-stable-diffusion/sd-nv/demo.ipynb#W0sZmlsZQ%3D%3D?line=42'>43</a>\u001b[0m     uncond_prompt\u001b[39m=\u001b[39;49muncond_prompt,\n\u001b[1;32m     <a href='vscode-notebook-cell:/Users/nikoenki/Documents/prog/pytorch-stable-diffusion/sd-nv/demo.ipynb#W0sZmlsZQ%3D%3D?line=43'>44</a>\u001b[0m     input_image\u001b[39m=\u001b[39;49minput_image,\n\u001b[1;32m     <a href='vscode-notebook-cell:/Users/nikoenki/Documents/prog/pytorch-stable-diffusion/sd-nv/demo.ipynb#W0sZmlsZQ%3D%3D?line=44'>45</a>\u001b[0m     strength\u001b[39m=\u001b[39;49mstrength,\n\u001b[1;32m     <a href='vscode-notebook-cell:/Users/nikoenki/Documents/prog/pytorch-stable-diffusion/sd-nv/demo.ipynb#W0sZmlsZQ%3D%3D?line=45'>46</a>\u001b[0m     do_cfg\u001b[39m=\u001b[39;49mdo_cfg,\n\u001b[1;32m     <a href='vscode-notebook-cell:/Users/nikoenki/Documents/prog/pytorch-stable-diffusion/sd-nv/demo.ipynb#W0sZmlsZQ%3D%3D?line=46'>47</a>\u001b[0m     cfg_scale\u001b[39m=\u001b[39;49mcfg_scale,\n\u001b[1;32m     <a href='vscode-notebook-cell:/Users/nikoenki/Documents/prog/pytorch-stable-diffusion/sd-nv/demo.ipynb#W0sZmlsZQ%3D%3D?line=47'>48</a>\u001b[0m     sampler_name\u001b[39m=\u001b[39;49msampler,\n\u001b[1;32m     <a href='vscode-notebook-cell:/Users/nikoenki/Documents/prog/pytorch-stable-diffusion/sd-nv/demo.ipynb#W0sZmlsZQ%3D%3D?line=48'>49</a>\u001b[0m     n_inference_steps\u001b[39m=\u001b[39;49mnum_inference_steps,\n\u001b[1;32m     <a href='vscode-notebook-cell:/Users/nikoenki/Documents/prog/pytorch-stable-diffusion/sd-nv/demo.ipynb#W0sZmlsZQ%3D%3D?line=49'>50</a>\u001b[0m     models\u001b[39m=\u001b[39;49mmodels,\n\u001b[1;32m     <a href='vscode-notebook-cell:/Users/nikoenki/Documents/prog/pytorch-stable-diffusion/sd-nv/demo.ipynb#W0sZmlsZQ%3D%3D?line=50'>51</a>\u001b[0m     seed\u001b[39m=\u001b[39;49mseed,\n\u001b[1;32m     <a href='vscode-notebook-cell:/Users/nikoenki/Documents/prog/pytorch-stable-diffusion/sd-nv/demo.ipynb#W0sZmlsZQ%3D%3D?line=51'>52</a>\u001b[0m     device\u001b[39m=\u001b[39;49mDEVICE,\n\u001b[1;32m     <a href='vscode-notebook-cell:/Users/nikoenki/Documents/prog/pytorch-stable-diffusion/sd-nv/demo.ipynb#W0sZmlsZQ%3D%3D?line=52'>53</a>\u001b[0m     idle_device\u001b[39m=\u001b[39;49m\u001b[39m\"\u001b[39;49m\u001b[39mcpu\u001b[39;49m\u001b[39m\"\u001b[39;49m,\n\u001b[1;32m     <a href='vscode-notebook-cell:/Users/nikoenki/Documents/prog/pytorch-stable-diffusion/sd-nv/demo.ipynb#W0sZmlsZQ%3D%3D?line=53'>54</a>\u001b[0m     tokenizer\u001b[39m=\u001b[39;49mtokenizer\n\u001b[1;32m     <a href='vscode-notebook-cell:/Users/nikoenki/Documents/prog/pytorch-stable-diffusion/sd-nv/demo.ipynb#W0sZmlsZQ%3D%3D?line=54'>55</a>\u001b[0m \n\u001b[1;32m     <a href='vscode-notebook-cell:/Users/nikoenki/Documents/prog/pytorch-stable-diffusion/sd-nv/demo.ipynb#W0sZmlsZQ%3D%3D?line=55'>56</a>\u001b[0m )\n\u001b[1;32m     <a href='vscode-notebook-cell:/Users/nikoenki/Documents/prog/pytorch-stable-diffusion/sd-nv/demo.ipynb#W0sZmlsZQ%3D%3D?line=57'>58</a>\u001b[0m Image\u001b[39m.\u001b[39mfromarray(output_image)\n",
      "File \u001b[0;32m~/Documents/prog/pytorch-stable-diffusion/sd-nv/pipeline.py:172\u001b[0m, in \u001b[0;36mgenerate\u001b[0;34m(prompt, uncond_prompt, input_image, strength, do_cfg, cfg_scale, sampler_name, n_inference_steps, models, seed, device, idle_device, tokenizer, seq_len)\u001b[0m\n\u001b[1;32m    169\u001b[0m     model_input \u001b[39m=\u001b[39m model_input\u001b[39m.\u001b[39mrepeat(\u001b[39m2\u001b[39m, \u001b[39m1\u001b[39m, \u001b[39m1\u001b[39m, \u001b[39m1\u001b[39m)\n\u001b[1;32m    171\u001b[0m \u001b[39m# model_output is predicted noise by the UNET\u001b[39;00m\n\u001b[0;32m--> 172\u001b[0m model_output \u001b[39m=\u001b[39m diffusion(model_input, context, time_embedding)\n\u001b[1;32m    174\u001b[0m \u001b[39mif\u001b[39;00m do_cfg:\n\u001b[1;32m    175\u001b[0m     \u001b[39m# in that case the output is 2 * batch_size\u001b[39;00m\n\u001b[1;32m    176\u001b[0m     \u001b[39m# merge unconditional and conditional prompts together\u001b[39;00m\n\u001b[1;32m    177\u001b[0m     \u001b[39m# weight of unconditional effect (how much do we not pay attention to input)\u001b[39;00m\n\u001b[1;32m    178\u001b[0m     \u001b[39m# is monitored by the cfg_scale\u001b[39;00m\n\u001b[1;32m    179\u001b[0m     output_cond, oupt_uncond \u001b[39m=\u001b[39m model_output\u001b[39m.\u001b[39mchunk(\u001b[39m2\u001b[39m)\n",
      "File \u001b[0;32m~/Documents/prog/pytorch-test/env/lib/python3.8/site-packages/torch/nn/modules/module.py:1501\u001b[0m, in \u001b[0;36mModule._call_impl\u001b[0;34m(self, *args, **kwargs)\u001b[0m\n\u001b[1;32m   1496\u001b[0m \u001b[39m# If we don't have any hooks, we want to skip the rest of the logic in\u001b[39;00m\n\u001b[1;32m   1497\u001b[0m \u001b[39m# this function, and just call forward.\u001b[39;00m\n\u001b[1;32m   1498\u001b[0m \u001b[39mif\u001b[39;00m \u001b[39mnot\u001b[39;00m (\u001b[39mself\u001b[39m\u001b[39m.\u001b[39m_backward_hooks \u001b[39mor\u001b[39;00m \u001b[39mself\u001b[39m\u001b[39m.\u001b[39m_backward_pre_hooks \u001b[39mor\u001b[39;00m \u001b[39mself\u001b[39m\u001b[39m.\u001b[39m_forward_hooks \u001b[39mor\u001b[39;00m \u001b[39mself\u001b[39m\u001b[39m.\u001b[39m_forward_pre_hooks\n\u001b[1;32m   1499\u001b[0m         \u001b[39mor\u001b[39;00m _global_backward_pre_hooks \u001b[39mor\u001b[39;00m _global_backward_hooks\n\u001b[1;32m   1500\u001b[0m         \u001b[39mor\u001b[39;00m _global_forward_hooks \u001b[39mor\u001b[39;00m _global_forward_pre_hooks):\n\u001b[0;32m-> 1501\u001b[0m     \u001b[39mreturn\u001b[39;00m forward_call(\u001b[39m*\u001b[39;49margs, \u001b[39m*\u001b[39;49m\u001b[39m*\u001b[39;49mkwargs)\n\u001b[1;32m   1502\u001b[0m \u001b[39m# Do not call functions when jit is used\u001b[39;00m\n\u001b[1;32m   1503\u001b[0m full_backward_hooks, non_full_backward_hooks \u001b[39m=\u001b[39m [], []\n",
      "File \u001b[0;32m~/Documents/prog/pytorch-stable-diffusion/sd-nv/diffusion.py:48\u001b[0m, in \u001b[0;36mDiffusion.forward\u001b[0;34m(self, latent, context, time)\u001b[0m\n\u001b[1;32m     45\u001b[0m time \u001b[39m=\u001b[39m \u001b[39mself\u001b[39m\u001b[39m.\u001b[39mtime_embedding(time)\n\u001b[1;32m     47\u001b[0m \u001b[39m# (batch, 4, h/8, w/8) -> (batch, time_dim, h/8, w/8)\u001b[39;00m\n\u001b[0;32m---> 48\u001b[0m output \u001b[39m=\u001b[39m \u001b[39mself\u001b[39;49m\u001b[39m.\u001b[39;49munet(latent, context, time)\n\u001b[1;32m     50\u001b[0m \u001b[39m# put in final size of unet\u001b[39;00m\n\u001b[1;32m     51\u001b[0m \u001b[39m# (batch, time_dim, h/8, w/8) -> (batch, 4, h/8, w/8)\u001b[39;00m\n\u001b[1;32m     52\u001b[0m output \u001b[39m=\u001b[39m \u001b[39mself\u001b[39m\u001b[39m.\u001b[39mfinal(output)\n",
      "File \u001b[0;32m~/Documents/prog/pytorch-test/env/lib/python3.8/site-packages/torch/nn/modules/module.py:1501\u001b[0m, in \u001b[0;36mModule._call_impl\u001b[0;34m(self, *args, **kwargs)\u001b[0m\n\u001b[1;32m   1496\u001b[0m \u001b[39m# If we don't have any hooks, we want to skip the rest of the logic in\u001b[39;00m\n\u001b[1;32m   1497\u001b[0m \u001b[39m# this function, and just call forward.\u001b[39;00m\n\u001b[1;32m   1498\u001b[0m \u001b[39mif\u001b[39;00m \u001b[39mnot\u001b[39;00m (\u001b[39mself\u001b[39m\u001b[39m.\u001b[39m_backward_hooks \u001b[39mor\u001b[39;00m \u001b[39mself\u001b[39m\u001b[39m.\u001b[39m_backward_pre_hooks \u001b[39mor\u001b[39;00m \u001b[39mself\u001b[39m\u001b[39m.\u001b[39m_forward_hooks \u001b[39mor\u001b[39;00m \u001b[39mself\u001b[39m\u001b[39m.\u001b[39m_forward_pre_hooks\n\u001b[1;32m   1499\u001b[0m         \u001b[39mor\u001b[39;00m _global_backward_pre_hooks \u001b[39mor\u001b[39;00m _global_backward_hooks\n\u001b[1;32m   1500\u001b[0m         \u001b[39mor\u001b[39;00m _global_forward_hooks \u001b[39mor\u001b[39;00m _global_forward_pre_hooks):\n\u001b[0;32m-> 1501\u001b[0m     \u001b[39mreturn\u001b[39;00m forward_call(\u001b[39m*\u001b[39;49margs, \u001b[39m*\u001b[39;49m\u001b[39m*\u001b[39;49mkwargs)\n\u001b[1;32m   1502\u001b[0m \u001b[39m# Do not call functions when jit is used\u001b[39;00m\n\u001b[1;32m   1503\u001b[0m full_backward_hooks, non_full_backward_hooks \u001b[39m=\u001b[39m [], []\n",
      "File \u001b[0;32m~/Documents/prog/pytorch-stable-diffusion/sd-nv/unet.py:325\u001b[0m, in \u001b[0;36mUNET.forward\u001b[0;34m(self, x, context, time)\u001b[0m\n\u001b[1;32m    322\u001b[0m \u001b[39mfor\u001b[39;00m layers \u001b[39min\u001b[39;00m \u001b[39mself\u001b[39m\u001b[39m.\u001b[39mdecoders:\n\u001b[1;32m    323\u001b[0m     \u001b[39m# Since we always concat with the skip connection of the encoder, the number of features increases before being sent to the decoder's layer\u001b[39;00m\n\u001b[1;32m    324\u001b[0m     x \u001b[39m=\u001b[39m torch\u001b[39m.\u001b[39mcat((x, skip_connections\u001b[39m.\u001b[39mpop()), dim\u001b[39m=\u001b[39m\u001b[39m1\u001b[39m)\n\u001b[0;32m--> 325\u001b[0m     x \u001b[39m=\u001b[39m layers(x, context, time)\n\u001b[1;32m    327\u001b[0m \u001b[39mreturn\u001b[39;00m x\n",
      "File \u001b[0;32m~/Documents/prog/pytorch-test/env/lib/python3.8/site-packages/torch/nn/modules/module.py:1501\u001b[0m, in \u001b[0;36mModule._call_impl\u001b[0;34m(self, *args, **kwargs)\u001b[0m\n\u001b[1;32m   1496\u001b[0m \u001b[39m# If we don't have any hooks, we want to skip the rest of the logic in\u001b[39;00m\n\u001b[1;32m   1497\u001b[0m \u001b[39m# this function, and just call forward.\u001b[39;00m\n\u001b[1;32m   1498\u001b[0m \u001b[39mif\u001b[39;00m \u001b[39mnot\u001b[39;00m (\u001b[39mself\u001b[39m\u001b[39m.\u001b[39m_backward_hooks \u001b[39mor\u001b[39;00m \u001b[39mself\u001b[39m\u001b[39m.\u001b[39m_backward_pre_hooks \u001b[39mor\u001b[39;00m \u001b[39mself\u001b[39m\u001b[39m.\u001b[39m_forward_hooks \u001b[39mor\u001b[39;00m \u001b[39mself\u001b[39m\u001b[39m.\u001b[39m_forward_pre_hooks\n\u001b[1;32m   1499\u001b[0m         \u001b[39mor\u001b[39;00m _global_backward_pre_hooks \u001b[39mor\u001b[39;00m _global_backward_hooks\n\u001b[1;32m   1500\u001b[0m         \u001b[39mor\u001b[39;00m _global_forward_hooks \u001b[39mor\u001b[39;00m _global_forward_pre_hooks):\n\u001b[0;32m-> 1501\u001b[0m     \u001b[39mreturn\u001b[39;00m forward_call(\u001b[39m*\u001b[39;49margs, \u001b[39m*\u001b[39;49m\u001b[39m*\u001b[39;49mkwargs)\n\u001b[1;32m   1502\u001b[0m \u001b[39m# Do not call functions when jit is used\u001b[39;00m\n\u001b[1;32m   1503\u001b[0m full_backward_hooks, non_full_backward_hooks \u001b[39m=\u001b[39m [], []\n",
      "File \u001b[0;32m~/Documents/prog/pytorch-stable-diffusion/sd-nv/unet.py:17\u001b[0m, in \u001b[0;36mSwitchSequential.forward\u001b[0;34m(self, x, context, time)\u001b[0m\n\u001b[1;32m     15\u001b[0m         x \u001b[39m=\u001b[39m layer(x, time)\n\u001b[1;32m     16\u001b[0m     \u001b[39melse\u001b[39;00m:\n\u001b[0;32m---> 17\u001b[0m         x \u001b[39m=\u001b[39m layer(x)\n\u001b[1;32m     19\u001b[0m \u001b[39mreturn\u001b[39;00m x\n",
      "File \u001b[0;32m~/Documents/prog/pytorch-test/env/lib/python3.8/site-packages/torch/nn/modules/module.py:1501\u001b[0m, in \u001b[0;36mModule._call_impl\u001b[0;34m(self, *args, **kwargs)\u001b[0m\n\u001b[1;32m   1496\u001b[0m \u001b[39m# If we don't have any hooks, we want to skip the rest of the logic in\u001b[39;00m\n\u001b[1;32m   1497\u001b[0m \u001b[39m# this function, and just call forward.\u001b[39;00m\n\u001b[1;32m   1498\u001b[0m \u001b[39mif\u001b[39;00m \u001b[39mnot\u001b[39;00m (\u001b[39mself\u001b[39m\u001b[39m.\u001b[39m_backward_hooks \u001b[39mor\u001b[39;00m \u001b[39mself\u001b[39m\u001b[39m.\u001b[39m_backward_pre_hooks \u001b[39mor\u001b[39;00m \u001b[39mself\u001b[39m\u001b[39m.\u001b[39m_forward_hooks \u001b[39mor\u001b[39;00m \u001b[39mself\u001b[39m\u001b[39m.\u001b[39m_forward_pre_hooks\n\u001b[1;32m   1499\u001b[0m         \u001b[39mor\u001b[39;00m _global_backward_pre_hooks \u001b[39mor\u001b[39;00m _global_backward_hooks\n\u001b[1;32m   1500\u001b[0m         \u001b[39mor\u001b[39;00m _global_forward_hooks \u001b[39mor\u001b[39;00m _global_forward_pre_hooks):\n\u001b[0;32m-> 1501\u001b[0m     \u001b[39mreturn\u001b[39;00m forward_call(\u001b[39m*\u001b[39;49margs, \u001b[39m*\u001b[39;49m\u001b[39m*\u001b[39;49mkwargs)\n\u001b[1;32m   1502\u001b[0m \u001b[39m# Do not call functions when jit is used\u001b[39;00m\n\u001b[1;32m   1503\u001b[0m full_backward_hooks, non_full_backward_hooks \u001b[39m=\u001b[39m [], []\n",
      "File \u001b[0;32m~/Documents/prog/pytorch-stable-diffusion/sd-nv/unet.py:339\u001b[0m, in \u001b[0;36mUpsample.forward\u001b[0;34m(self, x)\u001b[0m\n\u001b[1;32m    335\u001b[0m \u001b[39mdef\u001b[39;00m \u001b[39mforward\u001b[39m(\u001b[39mself\u001b[39m, x):\n\u001b[1;32m    336\u001b[0m     \u001b[39m# (batch_size, features, h, w) -> # (batch_size, features, 2 * h, 2 * w)\u001b[39;00m\n\u001b[1;32m    337\u001b[0m     x \u001b[39m=\u001b[39m F\u001b[39m.\u001b[39minterpolate(x, scale_factor\u001b[39m=\u001b[39m\u001b[39m2\u001b[39m, mode\u001b[39m=\u001b[39m\u001b[39m\"\u001b[39m\u001b[39mnearest\u001b[39m\u001b[39m\"\u001b[39m)\n\u001b[0;32m--> 339\u001b[0m     \u001b[39mreturn\u001b[39;00m \u001b[39mself\u001b[39;49m\u001b[39m.\u001b[39;49mconf(x)\n",
      "File \u001b[0;32m~/Documents/prog/pytorch-test/env/lib/python3.8/site-packages/torch/nn/modules/module.py:1614\u001b[0m, in \u001b[0;36mModule.__getattr__\u001b[0;34m(self, name)\u001b[0m\n\u001b[1;32m   1612\u001b[0m     \u001b[39mif\u001b[39;00m name \u001b[39min\u001b[39;00m modules:\n\u001b[1;32m   1613\u001b[0m         \u001b[39mreturn\u001b[39;00m modules[name]\n\u001b[0;32m-> 1614\u001b[0m \u001b[39mraise\u001b[39;00m \u001b[39mAttributeError\u001b[39;00m(\u001b[39m\"\u001b[39m\u001b[39m'\u001b[39m\u001b[39m{}\u001b[39;00m\u001b[39m'\u001b[39m\u001b[39m object has no attribute \u001b[39m\u001b[39m'\u001b[39m\u001b[39m{}\u001b[39;00m\u001b[39m'\u001b[39m\u001b[39m\"\u001b[39m\u001b[39m.\u001b[39mformat(\n\u001b[1;32m   1615\u001b[0m     \u001b[39mtype\u001b[39m(\u001b[39mself\u001b[39m)\u001b[39m.\u001b[39m\u001b[39m__name__\u001b[39m, name))\n",
      "\u001b[0;31mAttributeError\u001b[0m: 'Upsample' object has no attribute 'conf'"
     ]
    }
   ],
   "source": [
    "import model_loader\n",
    "import pipeline\n",
    "from PIL import Image\n",
    "from transformers import CLIPTokenizer\n",
    "import torch\n",
    "\n",
    "DEVICE = \"cpu\"\n",
    "\n",
    "ALLOW_CUDA = False\n",
    "ALLOW_MPS = False\n",
    "\n",
    "if torch.cuda.is_available() and ALLOW_CUDA:\n",
    "    DEVICE = \"cuda\"\n",
    "elif torch.has_mps or torch.backend.mps.is_available() and ALLOW_MPS:\n",
    "    DEVICE = \"mps\"\n",
    "\n",
    "\n",
    "tokenizer = CLIPTokenizer(\"../data/vocab.json\", merges_file = \"../data/merges.txt\")\n",
    "model_file = \"../data/v1-5-pruned-emaonly.ckpt\"\n",
    "models = model_loader.preload_models_from_standard_weights(model_file, DEVICE)\n",
    "\n",
    "## TEXT to IMAGE\n",
    "\n",
    "prompt = \"A cat streching on the floor, highly detailed, ultra sharp, cinematic, 8K resolution\"\n",
    "uncond_prompt = \"\" # can be a negative prompt\n",
    "do_cfg = True\n",
    "cfg_scale = 7\n",
    "\n",
    "## IMAGE TO IMAGE\n",
    "\n",
    "input_image = None\n",
    "image_path = \"../image/dog.jpg\"\n",
    "# input_image = Image.open(image_path)\n",
    "strength = 0.9\n",
    "\n",
    "\n",
    "sampler = \"ddpm\"\n",
    "num_inference_steps = 50\n",
    "seed = 42\n",
    "\n",
    "output_image = pipeline.generate(\n",
    "    prompt=prompt,\n",
    "    uncond_prompt=uncond_prompt,\n",
    "    input_image=input_image,\n",
    "    strength=strength,\n",
    "    do_cfg=do_cfg,\n",
    "    cfg_scale=cfg_scale,\n",
    "    sampler_name=sampler,\n",
    "    n_inference_steps=num_inference_steps,\n",
    "    models=models,\n",
    "    seed=seed,\n",
    "    device=DEVICE,\n",
    "    idle_device=\"cpu\",\n",
    "    tokenizer=tokenizer\n",
    "\n",
    ")\n",
    "\n",
    "Image.fromarray(output_image)"
   ]
  }
 ],
 "metadata": {
  "kernelspec": {
   "display_name": "Python 3",
   "language": "python",
   "name": "python3"
  },
  "language_info": {
   "codemirror_mode": {
    "name": "ipython",
    "version": 3
   },
   "file_extension": ".py",
   "mimetype": "text/x-python",
   "name": "python",
   "nbconvert_exporter": "python",
   "pygments_lexer": "ipython3",
   "version": "3.8.17"
  }
 },
 "nbformat": 4,
 "nbformat_minor": 2
}
